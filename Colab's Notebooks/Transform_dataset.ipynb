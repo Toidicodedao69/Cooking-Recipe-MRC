{
  "nbformat": 4,
  "nbformat_minor": 0,
  "metadata": {
    "colab": {
      "provenance": []
    },
    "kernelspec": {
      "name": "python3",
      "display_name": "Python 3"
    },
    "language_info": {
      "name": "python"
    }
  },
  "cells": [
    {
      "cell_type": "markdown",
      "source": [
        "# Coverting the cpgQA dataset into the squad format"
      ],
      "metadata": {
        "id": "44BLfMelIERi"
      }
    },
    {
      "cell_type": "code",
      "execution_count": null,
      "metadata": {
        "id": "26vsHwC-UrGE"
      },
      "outputs": [],
      "source": [
        "import json\n",
        "\n",
        "def convert_format(file_path):\n",
        "    with open(file_path, 'r', encoding='utf-8') as f:\n",
        "        original_data = json.load(f)\n",
        "\n",
        "    converted_data = []\n",
        "\n",
        "    for entry in original_data['data']:\n",
        "        title = entry['title']\n",
        "        context = entry['paragraphs']['context']\n",
        "\n",
        "        for qa in entry['paragraphs']['qas']:\n",
        "            answers = []\n",
        "            for ans in qa['answers']:\n",
        "                answers.append({\n",
        "                    \"text\": ans['text'],\n",
        "                    \"answer_start\": ans['answer_start']\n",
        "                })\n",
        "            new_entry = {\n",
        "                \"title\": title,\n",
        "                \"context\": context,\n",
        "                \"question\": qa['question'],\n",
        "                \"id\": qa['id'],\n",
        "                \"answers\": answers\n",
        "            }\n",
        "            converted_data.append(new_entry)\n",
        "\n",
        "    return converted_data\n",
        "\n",
        "def export_to_json(data, filename):\n",
        "    with open(filename, 'w', encoding='utf-8') as f:\n",
        "        json.dump(data, f, ensure_ascii=False, indent=4)\n",
        "\n",
        "# Example usage:\n",
        "\n",
        "# Convert data from original file and store it in converted_data\n",
        "converted_data = convert_format('cpgQA-v1.0.json')\n",
        "\n",
        "# Exporting the converted data to a JSON file\n",
        "export_to_json(converted_data, 'cpgQA3.json')\n"
      ]
    },
    {
      "cell_type": "markdown",
      "source": [
        "# Converting the cooking_squad dataset made by Amelia to the desired format (grouping answer text and answer_id into 1)\n"
      ],
      "metadata": {
        "id": "AeWkKPbdHw05"
      }
    },
    {
      "cell_type": "code",
      "source": [
        "import json\n",
        "\n",
        "def convert_format(file_path):\n",
        "    with open(file_path, 'r', encoding='utf-8') as f:\n",
        "        original_data = json.load(f)\n",
        "\n",
        "    converted_data = []\n",
        "\n",
        "    for entry in original_data:\n",
        "        id = entry['id']\n",
        "        context = entry['context']\n",
        "        question = entry['question']\n",
        "\n",
        "        new_entry = {\n",
        "            \"id\": id,\n",
        "            \"context\": context,\n",
        "            \"question\": question,\n",
        "            \"answers\": {\n",
        "                \"text\": entry['answer'],\n",
        "                \"answer_start\": entry['answer_start']\n",
        "            }\n",
        "        }\n",
        "        converted_data.append(new_entry)\n",
        "\n",
        "    return converted_data\n",
        "\n",
        "def export_to_json(data, filename):\n",
        "    with open(filename, 'w', encoding='utf-8') as f:\n",
        "        json.dump(data, f, ensure_ascii=False, indent=4)\n",
        "\n",
        "# Example usage:\n",
        "\n",
        "# Convert data from original file and store it in converted_data\n",
        "converted_data = convert_format('simple_squad_format_dataset.json')\n",
        "\n",
        "# Exporting the converted data to a JSON file\n",
        "export_to_json(converted_data, 'squad_cooking_transformed.json')"
      ],
      "metadata": {
        "id": "yOw-53QUFWxH"
      },
      "execution_count": null,
      "outputs": []
    }
  ]
}